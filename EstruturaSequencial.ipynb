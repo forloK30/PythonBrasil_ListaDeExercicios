{
 "cells": [
  {
   "cell_type": "code",
   "execution_count": 1,
   "id": "0975a8c7",
   "metadata": {},
   "outputs": [
    {
     "name": "stdout",
     "output_type": "stream",
     "text": [
      "Alo mundo!!!\n"
     ]
    }
   ],
   "source": [
    "#Faça um Programa que mostre a mensagem \"Alo mundo\" na tela.\n",
    "print(\"Alo mundo!!!\")"
   ]
  },
  {
   "cell_type": "code",
   "execution_count": 4,
   "id": "585c213f",
   "metadata": {},
   "outputs": [
    {
     "name": "stdout",
     "output_type": "stream",
     "text": [
      "Diga um número: 1\n",
      "O número informado foi  1\n"
     ]
    }
   ],
   "source": [
    "#Faça um Programa que peça um número e então mostre a mensagem O número informado foi [número].\n",
    "x = int(input(\"Diga um número: \"))\n",
    "print(\"O número informado foi \",x)"
   ]
  },
  {
   "cell_type": "code",
   "execution_count": 3,
   "id": "6244644d",
   "metadata": {},
   "outputs": [
    {
     "name": "stdout",
     "output_type": "stream",
     "text": [
      "Diga um número: 1\n",
      "Diga outro número: 1\n",
      "1  +  1  =  2\n"
     ]
    }
   ],
   "source": [
    "#Faça um Programa que peça dois números e imprima a soma.\n",
    "x = int(input(\"Diga um número: \"))\n",
    "y = int(input(\"Diga outro número: \"))\n",
    "soma = x+y\n",
    "print(x,\" + \",y,\" = \",soma)"
   ]
  },
  {
   "cell_type": "code",
   "execution_count": 11,
   "id": "ee3124fb",
   "metadata": {},
   "outputs": [
    {
     "name": "stdout",
     "output_type": "stream",
     "text": [
      "Informe suas notas para calcular a média.\n",
      "Nota 1: 10\n",
      "Nota 2: 8\n",
      "Nota 3: 8\n",
      "Nota 4: 6\n",
      "Sua média é  8.0\n"
     ]
    }
   ],
   "source": [
    "#Faça um Programa que peça as 4 notas bimestrais e mostre a média.\n",
    "print(\"Informe suas notas para calcular a média.\")\n",
    "n1 = int(input(\"Nota 1: \"))\n",
    "n2 = int(input(\"Nota 2: \"))\n",
    "n3 = int(input(\"Nota 3: \"))\n",
    "n4 = int(input(\"Nota 4: \"))\n",
    "\n",
    "media = (n1+n2+n3+n4)/4\n",
    "print(\"Sua média é \",media)"
   ]
  },
  {
   "cell_type": "code",
   "execution_count": 14,
   "id": "824660fb",
   "metadata": {},
   "outputs": [
    {
     "name": "stdout",
     "output_type": "stream",
     "text": [
      "Informe um valor em metros e saiba quanto vale em centímetros.\n",
      "Valor em metros: 2\n",
      "Valor em centímetros:  200\n"
     ]
    }
   ],
   "source": [
    "#Faça um Programa que converta metros para centímetros.\n",
    "print(\"Informe um valor em metros e saiba quanto vale em centímetros.\")\n",
    "m = int(input(\"Valor em metros: \"))\n",
    "\n",
    "cm = m*100\n",
    "print(\"Valor em centímetros: \",cm)"
   ]
  },
  {
   "cell_type": "code",
   "execution_count": 25,
   "id": "944893cd",
   "metadata": {},
   "outputs": [
    {
     "name": "stdout",
     "output_type": "stream",
     "text": [
      "Descubra sua área.\n",
      "Informe o raio de um círculo: 2\n",
      "Usando π como 3,14. A área é  12.56\n"
     ]
    }
   ],
   "source": [
    "#Faça um Programa que peça o raio de um círculo, calcule e mostre sua área.\n",
    "print(\"Descubra sua área.\")\n",
    "raio = int(input(\"Informe o raio de um círculo: \"))\n",
    "\n",
    "area = (2*3.14)*raio\n",
    "print(\"Usando π como 3,14.\",\"A área é \",area)"
   ]
  },
  {
   "cell_type": "code",
   "execution_count": 26,
   "id": "7cb171b4",
   "metadata": {},
   "outputs": [
    {
     "name": "stdout",
     "output_type": "stream",
     "text": [
      "Descubra quanto é o dobro de sua área de um quadrado.\n",
      "Informe a aresta do quadrado: 2\n",
      "O obro da área do quadrado é  8\n"
     ]
    }
   ],
   "source": [
    "#Faça um Programa que calcule a área de um quadrado, em seguida mostre o dobro desta área para o usuário.\n",
    "print(\"Descubra quanto é o dobro de sua área de um quadrado.\")\n",
    "aresta = int(input(\"Informe a aresta do quadrado: \"))\n",
    "\n",
    "area2 = 2*(aresta**2)\n",
    "print(\"O obro da área do quadrado é \",area2)"
   ]
  },
  {
   "cell_type": "code",
   "execution_count": 27,
   "id": "9e68dd2b",
   "metadata": {},
   "outputs": [
    {
     "name": "stdout",
     "output_type": "stream",
     "text": [
      "Descobra quanto você ganha por hora.\n",
      "Informe seu salário mensal: 400\n",
      "Informe quantas horas trabalha por mês: 20\n",
      "Por hora você ganha  20.0\n"
     ]
    }
   ],
   "source": [
    "#Faça um Programa que pergunte quanto você ganha por hora e o número de horas trabalhadas no mês. Calcule e mostre o total do seu salário no referido mês.\n",
    "print(\"Descobra quanto você ganha por hora.\")\n",
    "salario = int(input(\"Informe seu salário mensal: \"))\n",
    "horas = int(input(\"Informe quantas horas trabalha por mês: \"))\n",
    "\n",
    "resultado = salario/horas\n",
    "print(\"Por hora você ganha \",resultado)"
   ]
  },
  {
   "cell_type": "code",
   "execution_count": 33,
   "id": "a2e488c8",
   "metadata": {},
   "outputs": [
    {
     "name": "stdout",
     "output_type": "stream",
     "text": [
      "Descobra quanto a temperatura em Fahrenheit vale em Celcius\n",
      "Informe a temperatura em Fahrenheit: 104\n",
      "A temperatura em celcius é 40.0\n"
     ]
    }
   ],
   "source": [
    "#Faça um Programa que peça a temperatura em graus Fahrenheit, transforme e mostre a temperatura em graus Celsius.\n",
    "print(\"Descobra quanto a temperatura em Fahrenheit vale em Celcius\")\n",
    "fah = int(input(\"Informe a temperatura em Fahrenheit: \"))\n",
    "\n",
    "cel = (fah-32)/1.8\n",
    "print(\"A temperatura em celcius é\",cel)"
   ]
  },
  {
   "cell_type": "code",
   "execution_count": 34,
   "id": "7dccc69b",
   "metadata": {},
   "outputs": [
    {
     "name": "stdout",
     "output_type": "stream",
     "text": [
      "Descobra quanto a temperatura em Celcius vale em Fahrenheit\n",
      "Informe a temperatura em Celcius: 40\n",
      "A temperatura em fahrenheit é 104.0\n"
     ]
    }
   ],
   "source": [
    "#Faça um Programa que peça a temperatura em graus Celsius, transforme e mostre em graus Fahrenheit.\n",
    "print(\"Descobra quanto a temperatura em Celcius vale em Fahrenheit\")\n",
    "cel = int(input(\"Informe a temperatura em Celcius: \"))\n",
    "\n",
    "fah = cel*1.8+32\n",
    "print(\"A temperatura em fahrenheit é\",fah)"
   ]
  },
  {
   "cell_type": "code",
   "execution_count": 35,
   "id": "ab81fbb5",
   "metadata": {},
   "outputs": [
    {
     "name": "stdout",
     "output_type": "stream",
     "text": [
      "Informe dois números inteiros e um número real e faça algumas descobertas.\n",
      "Número inteiro: 4\n",
      "Número inteiro: 2\n",
      "Número real: 0.5\n",
      "O produto do dobro do primeiro com metade do segundo é 16.0\n",
      "A soma do triplo do primeiro com o terceiro é 64.5\n",
      "O terceiro elevado ao cubo é 0.125\n"
     ]
    }
   ],
   "source": [
    "#Faça um Programa que peça 2 números inteiros e um número real. Calcule e mostre:\n",
    "##o produto do dobro do primeiro com metade do segundo .\n",
    "##a soma do triplo do primeiro com o terceiro.\n",
    "##o terceiro elevado ao cubo.\n",
    "\n",
    "print(\"Informe dois números inteiros e um número real e faça algumas descobertas.\")\n",
    "n1 = int(input(\"Número inteiro: \"))\n",
    "n2 = int(input(\"Número inteiro: \"))\n",
    "n3 = float(input(\"Número real: \"))\n",
    "\n",
    "result1 = (n1**2)*(n2/2)\n",
    "print(\"O produto do dobro do primeiro com metade do segundo é\",result1)\n",
    "\n",
    "result2 = (n1**3)+(n3)\n",
    "print(\"A soma do triplo do primeiro com o terceiro é\",result2)\n",
    "\n",
    "result3 = n3**3\n",
    "print(\"O terceiro elevado ao cubo é\",result3)"
   ]
  },
  {
   "cell_type": "code",
   "execution_count": 37,
   "id": "f9f1bf3d",
   "metadata": {},
   "outputs": [
    {
     "name": "stdout",
     "output_type": "stream",
     "text": [
      "Descobra qual é seu peso ideal.\n",
      "Informe sua altura: 1.65\n",
      "Seu peso ideial é  61.955\n"
     ]
    }
   ],
   "source": [
    "#Tendo como dados de entrada a altura de uma pessoa, construa um algoritmo que calcule seu peso ideal, usando a seguinte fórmula: (72.7*altura) - 58\n",
    "print(\"Descobra qual é seu peso ideal.\")\n",
    "altura = float(input(\"Informe sua altura: \"))\n",
    "\n",
    "ideal = (72.7*altura) - 58\n",
    "print(\"Seu peso ideial é \",ideal)"
   ]
  },
  {
   "cell_type": "code",
   "execution_count": 46,
   "id": "7a7e9e5f",
   "metadata": {},
   "outputs": [
    {
     "name": "stdout",
     "output_type": "stream",
     "text": [
      "Descobra qual é seu peso ideal.\n",
      "Informe sua altura: 1.8\n",
      "Informe, usando m ou h, sua sexo biológico: m\n",
      "Seu peso ideial é  61.955\n"
     ]
    }
   ],
   "source": [
    "#Tendo como dado de entrada a altura (h) de uma pessoa, construa um algoritmo que calcule seu peso ideal, utilizando as seguintes fórmulas:\n",
    "##Para homens: (72.7*h) - 58\n",
    "##Para mulheres: (62.1*h) - 44.7\n",
    "print(\"Descobra qual é seu peso ideal.\")\n",
    "altura = float(input(\"Informe sua altura: \"))\n",
    "sexo = input(\"Informe, usando m ou h, sua sexo biológico: \")\n",
    "if sexo == \"h\":\n",
    "    ideal = (72.7*altura) - 58\n",
    "    print(\"Seu peso ideial é \",ideal)\n",
    "elif sexo == \"m\":\n",
    "    ideal == (62.1*altura) - 44.7\n",
    "    print(\"Seu peso ideial é \",ideal)"
   ]
  },
  {
   "cell_type": "code",
   "execution_count": 1,
   "id": "2fb36bdc",
   "metadata": {},
   "outputs": [
    {
     "name": "stdout",
     "output_type": "stream",
     "text": [
      "Descobra se João levou multa dessa vez. Caso tenha quanto excedeu e quando sera sua multa.\n",
      "Informe quantos quilos João pescou: 60\n",
      "João levou multa. O valor da multa foi  40.0  reais.\n"
     ]
    }
   ],
   "source": [
    "#João Papo-de-Pescador, homem de bem, comprou um microcomputador para controlar o rendimento diário de seu trabalho. Toda vez que ele traz um peso de peixes maior que o estabelecido pelo regulamento de pesca do estado de São Paulo (50 quilos) deve pagar uma multa de R$ 4,00 por quilo excedente. João precisa que você faça um programa que leia a variável peso (peso de peixes) e calcule o excesso. Gravar na variável excesso a quantidade de quilos além do limite e na variável multa o valor da multa que João deverá pagar. Imprima os dados do programa com as mensagens adequadas.\n",
    "print(\"Descobra se João levou multa dessa vez. Caso tenha quanto excedeu e quando sera sua multa.\")\n",
    "pesca = float(input(\"Informe quantos quilos João pescou: \"))\n",
    "\n",
    "if pesca <= 50:\n",
    "    print(\"João não levou multa.\")\n",
    "else:\n",
    "    multa = (pesca-50)*4\n",
    "    print(\"João levou multa. O valor da multa foi \", multa,\" reais.\")"
   ]
  },
  {
   "cell_type": "code",
   "execution_count": 5,
   "id": "4d595ef6",
   "metadata": {},
   "outputs": [
    {
     "name": "stdout",
     "output_type": "stream",
     "text": [
      "Descobra qual seu salário bruto e líquido, assim como, o valor descontado.\n",
      "Informe seu salário por hora: 5\n",
      "Informe quantas horas trabalha por mês: 20\n",
      "Seu salário bruto é R$ 100.0\n",
      "O desconto do Imposto de Renda foi R$ 11.0\n",
      "O desconto do INSS foi R$ 8.0\n",
      "O desconto do Sindicato foi R$ 5.0\n",
      "Seu salário líquido é R$ 76.0\n"
     ]
    }
   ],
   "source": [
    "#Faça um Programa que pergunte quanto você ganha por hora e o número de horas trabalhadas no mês. Calcule e mostre o total do seu salário no referido mês, sabendo-se que são descontados 11% para o Imposto de Renda, 8% para o INSS e 5% para o sindicato, faça um programa que nos dê:\n",
    "##salário bruto.\n",
    "##quanto pagou ao INSS.\n",
    "##quanto pagou ao sindicato.\n",
    "##o salário líquido.\n",
    "##calcule os descontos e o salário líquido, conforme a tabela abaixo:\n",
    "\n",
    "print(\"Descobra qual seu salário bruto e líquido, assim como, o valor descontado.\")\n",
    "salario_horas = float(input(\"Informe seu salário por hora: \"))\n",
    "horas = float(input(\"Informe quantas horas trabalha por mês: \"))\n",
    "\n",
    "salario_bruto = salario_horas*horas\n",
    "print(\"Seu salário bruto é R$\", salario_bruto)\n",
    "ir = salario_bruto*0.11\n",
    "print(\"O desconto do Imposto de Renda foi R$\", ir)\n",
    "inss = salario_bruto*0.08\n",
    "print(\"O desconto do INSS foi R$\", inss)\n",
    "sindicato = salario_bruto*0.05\n",
    "print(\"O desconto do Sindicato foi R$\", sindicato)\n",
    "\n",
    "desconto = ir+inss+sindicato\n",
    "salario_liquido = salario_bruto - desconto\n",
    "print(\"Seu salário líquido é R$\", salario_liquido)"
   ]
  },
  {
   "cell_type": "code",
   "execution_count": 28,
   "id": "18d270fd",
   "metadata": {},
   "outputs": [
    {
     "name": "stdout",
     "output_type": "stream",
     "text": [
      "Descobra quantas latas de tinta precisa e qual o valor final.\n",
      "Informe quantos metros quadrados para pintar: 55\n",
      "Seram necessárias 2 latas de tinta.\n",
      "O valor a pagar sera R$ 160\n"
     ]
    }
   ],
   "source": [
    "#Faça um programa para uma loja de tintas. O programa deverá pedir o tamanho em metros quadrados da área a ser pintada. Considere que a cobertura da tinta é de 1 litro para cada 3 metros quadrados e que a tinta é vendida em latas de 18 litros, que custam R$ 80,00. Informe ao usuário a quantidades de latas de tinta a serem compradas e o preço total.\n",
    "import math\n",
    "\n",
    "print(\"Descobra quantas latas de tinta precisa e qual o valor final.\")\n",
    "\n",
    "m2 = float(input(\"Informe quantos metros quadrados para pintar: \"))\n",
    "consumo = m2/3\n",
    "\n",
    "latas = math.ceil((consumo)/18)\n",
    "valor = 80*latas\n",
    "\n",
    "print(\"Seram necessárias\",latas,\"latas de tinta.\")\n",
    "print(\"O valor a pagar sera R$\",valor)"
   ]
  },
  {
   "cell_type": "code",
   "execution_count": null,
   "id": "226f6df9",
   "metadata": {},
   "outputs": [],
   "source": [
    "#Faça um Programa para uma loja de tintas. O programa deverá pedir o tamanho em metros quadrados da área a ser pintada. Considere que a cobertura da tinta é de 1 litro para cada 6 metros quadrados e que a tinta é vendida em latas de 18 litros, que custam R$ 80,00 ou em galões de 3,6 litros, que custam R$ 25,00.\n",
    "##Informe ao usuário as quantidades de tinta a serem compradas e os respectivos preços em 3 situações:\n",
    "##comprar apenas latas de 18 litros;\n",
    "##comprar apenas galões de 3,6 litros;\n",
    "##misturar latas e galões, de forma que o desperdício de tinta seja menor. Acrescente 10% de folga e sempre arredonde os valores para cima, isto é, considere latas cheias.\n",
    "import math\n",
    "\n",
    "print(\"Descobra quantas latas de tinta precisa e qual o valor final.\")\n",
    "m2 = float(input(\"Informe quantos metros quadrados para pintar: \"))\n",
    "consumo = m2/6\n",
    "\n",
    "print(\"Opção apenas comprando latas de 18L:\")\n",
    "lata = math.ceil((consumo)/18)\n",
    "valor1 = 80*lata\n",
    "print(\"Seram necessárias\",lata,\"latas de tinta de 18L.\")\n",
    "print(\"O valor a pagar sera R$\",valor1)\n",
    "\n",
    "print(\"Opção apenas comprando galões de tinta de "
   ]
  },
  {
   "cell_type": "code",
   "execution_count": 26,
   "id": "f1a11ca1",
   "metadata": {},
   "outputs": [
    {
     "name": "stdout",
     "output_type": "stream",
     "text": [
      "Descobra quantas latas de tinta precisa e qual o valor final.\n",
      "Informe quantos metros quadrados para pintar: 108\n",
      "\n",
      "\n",
      "Opção apenas comprando latas de 18L:\n",
      "Seram necessárias 1 latas de tinta de 18L.\n",
      "O valor a pagar sera R$ 80\n",
      "\n",
      "\n",
      "Opção apenas comprando galões de tinta de 3,6L:\n",
      "Seram necessárias 5 latas de tinta de tinta de 3,6L.\n",
      "O valor a pagar sera R$ 125\n",
      "\n",
      "\n",
      "Opção para desperdiçar o mínimo:\n",
      "Seram necessárias 2 latas de tinta de 18L e 1 galões de tinta 3,6L.\n",
      "O valor a pagar sera R$ 185\n"
     ]
    }
   ],
   "source": [
    "#Faça um Programa para uma loja de tintas. O programa deverá pedir o tamanho em metros quadrados da área a ser pintada. Considere que a cobertura da tinta é de 1 litro para cada 6 metros quadrados e que a tinta é vendida em latas de 18 litros, que custam R$ 80,00 ou em galões de 3,6 litros, que custam R$ 25,00.\n",
    "##Informe ao usuário as quantidades de tinta a serem compradas e os respectivos preços em 3 situações:\n",
    "##comprar apenas latas de 18 litros;\n",
    "##comprar apenas galões de 3,6 litros;\n",
    "##misturar latas e galões, de forma que o desperdício de tinta seja menor. Acrescente 10% de folga e sempre arredonde os valores para cima, isto é, considere latas cheias.\n",
    "import math\n",
    "\n",
    "print(\"Descobra quantas latas de tinta precisa e qual o valor final.\")\n",
    "m2 = float(input(\"Informe quantos metros quadrados para pintar: \"))\n",
    "consumo = m2/6\n",
    "\n",
    "print(\"\\n\")\n",
    "print(\"Opção apenas comprando latas de 18L:\")\n",
    "lata = math.ceil((consumo)/18)\n",
    "valor1 = 80*lata\n",
    "print(\"Seram necessárias\",lata,\"latas de tinta de 18L.\")\n",
    "print(\"O valor a pagar sera R$\",valor1)\n",
    "\n",
    "print(\"\\n\")\n",
    "print(\"Opção apenas comprando galões de tinta de 3,6L:\")\n",
    "galao = math.ceil((consumo)/3.6)\n",
    "valor2 = 25*galao\n",
    "print(\"Seram necessárias\",galao,\"latas de tinta de tinta de 3,6L.\")\n",
    "print(\"O valor a pagar sera R$\",valor2)\n",
    "\n",
    "print(\"\\n\")\n",
    "print(\"Opção para desperdiçar o mínimo:\")\n",
    "if (consumo*1.1)/18 <=0.88:\n",
    "    qt_galao = math.ceil((consumo*1.1)/3.6)\n",
    "    valor3 = qt_galao*25\n",
    "    print(\"Seram necessárias\",qt_galao,\"galões de tinta de 3,6L.\")\n",
    "    print(\"O valor a pagar sera R$\",valor3)\n",
    "elif (consumo*1.1)%18 == 0 or (consumo*1.1)/18 <1:\n",
    "    qt_lata = math.ceil((consumo*1.1)/18)\n",
    "    valor3 = qt_lata*80\n",
    "    print(\"Seram necessárias\",qt_lata,\"latas de tinta de 18L.\")\n",
    "    print(\"O valor a pagar sera R$\",valor3)\n",
    "else:\n",
    "    qt_galao = math.ceil(((consumo*1.1)%18)/3.6)\n",
    "    qt_lata = math.ceil((consumo*1.1)/18)\n",
    "    valor3 = qt_lata*80 + qt_galao*25\n",
    "    print(\"Seram necessárias\",qt_lata,\"latas de tinta de 18L e\",qt_galao,\"galões de tinta 3,6L.\")\n",
    "    print(\"O valor a pagar sera R$\",valor3)"
   ]
  },
  {
   "cell_type": "code",
   "execution_count": null,
   "id": "caad2f3c",
   "metadata": {},
   "outputs": [],
   "source": [
    "# Faça um programa que peça o tamanho de um arquivo para download (em MB) e a velocidade de um link de Internet (em Mbps), calcule e informe o tempo aproximado de download do arquivo usando este link (em minutos).\n",
    "print(\"Descobra quanto tempo aproximadamente o dowload ira demorar.\")\n",
    "\n",
    "arquivo = float(input(\"Informe o tamanho do arquivo (em MB): \"))\n",
    "velocidade = float(input(\"Informe a velocidade da Internet (em MBps): \"))\n",
    "\n",
    "print(\"O tempo aproximado do dowloadd é \",(arquivo/velocidade)*60)"
   ]
  },
  {
   "cell_type": "code",
   "execution_count": null,
   "id": "d4c28731",
   "metadata": {},
   "outputs": [],
   "source": [
    "#https://wiki.python.org.br/EstruturaSequencial"
   ]
  },
  {
   "cell_type": "code",
   "execution_count": 27,
   "id": "b3bbc9c5",
   "metadata": {},
   "outputs": [
    {
     "name": "stdout",
     "output_type": "stream",
     "text": [
      "Descobra quantas latas de tinta precisa e qual o valor final.\n",
      "Informe quantos metros quadrados para pintar: 108\n",
      "\n",
      "\n",
      "Opção para desperdiçar o mínimo:\n",
      "Seram necessárias 2 latas de tinta de 18L e 1 galões de tinta 3,6L.\n",
      "O valor a pagar sera R$ 185\n"
     ]
    }
   ],
   "source": [
    "print(\"Descobra quantas latas de tinta precisa e qual o valor final.\")\n",
    "m2 = float(input(\"Informe quantos metros quadrados para pintar: \"))\n",
    "consumo = m2/6\n",
    "\n",
    "print(\"\\n\")\n",
    "print(\"Opção para desperdiçar o mínimo:\")\n",
    "if (consumo*1.1)/18 <=0.88:\n",
    "    qt_galao = math.ceil((consumo*1.1)/3.6)\n",
    "    valor3 = qt_galao*25\n",
    "    print(\"Seram necessárias\",qt_galao,\"galões de tinta de 3,6L.\")\n",
    "    print(\"O valor a pagar sera R$\",valor3)\n",
    "elif (consumo*1.1)%18 == 0 or (consumo*1.1)/18 <1:\n",
    "    qt_lata = math.ceil((consumo*1.1)/18)\n",
    "    valor3 = qt_lata*80\n",
    "    print(\"Seram necessárias\",qt_lata,\"latas de tinta de 18L.\")\n",
    "    print(\"O valor a pagar sera R$\",valor3)\n",
    "else:\n",
    "    qt_galao = math.ceil(((consumo*1.1)%18)/3.6)\n",
    "    qt_lata = math.ceil((consumo*1.1)/18)\n",
    "    valor3 = qt_lata*80 + qt_galao*25\n",
    "    print(\"Seram necessárias\",qt_lata,\"latas de tinta de 18L e\",qt_galao,\"galões de tinta 3,6L.\")\n",
    "    print(\"O valor a pagar sera R$\",valor3)"
   ]
  },
  {
   "cell_type": "code",
   "execution_count": null,
   "id": "1457b700",
   "metadata": {},
   "outputs": [],
   "source": []
  }
 ],
 "metadata": {
  "kernelspec": {
   "display_name": "Python 3 (ipykernel)",
   "language": "python",
   "name": "python3"
  },
  "language_info": {
   "codemirror_mode": {
    "name": "ipython",
    "version": 3
   },
   "file_extension": ".py",
   "mimetype": "text/x-python",
   "name": "python",
   "nbconvert_exporter": "python",
   "pygments_lexer": "ipython3",
   "version": "3.9.7"
  }
 },
 "nbformat": 4,
 "nbformat_minor": 5
}

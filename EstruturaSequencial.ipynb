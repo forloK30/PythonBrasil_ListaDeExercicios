{
 "cells": [
  {
   "cell_type": "markdown",
   "id": "2e46bfb9",
   "metadata": {},
   "source": [
    "# Lista de Exercícios PythonBrasil\n",
    "\n",
    "- **Conteúdo:** Sequência\n",
    "- **Enunciado das questões:** https://wiki.python.org.br/EstruturaSequencial"
   ]
  },
  {
   "cell_type": "code",
   "execution_count": 1,
   "id": "0975a8c7",
   "metadata": {},
   "outputs": [
    {
     "name": "stdout",
     "output_type": "stream",
     "text": [
      "Alo mundo!!!\n"
     ]
    }
   ],
   "source": [
    "#1\n",
    "print(\"Alo mundo!!!\")"
   ]
  },
  {
   "cell_type": "code",
   "execution_count": 2,
   "id": "585c213f",
   "metadata": {},
   "outputs": [
    {
     "name": "stdout",
     "output_type": "stream",
     "text": [
      "Diga um número: 3\n",
      "O número informado foi  3.0\n"
     ]
    }
   ],
   "source": [
    "#2\n",
    "x = float(input(\"Diga um número: \"))\n",
    "print(\"O número informado foi \",x)"
   ]
  },
  {
   "cell_type": "code",
   "execution_count": 3,
   "id": "6244644d",
   "metadata": {},
   "outputs": [
    {
     "name": "stdout",
     "output_type": "stream",
     "text": [
      "Diga um número: 3\n",
      "Diga outro número: 7\n",
      "3.0  +  7.0  =  10.0\n"
     ]
    }
   ],
   "source": [
    "#3\n",
    "x = float(input(\"Diga um número: \"))\n",
    "y = float(input(\"Diga outro número: \"))\n",
    "soma = x+y\n",
    "print(x,\" + \",y,\" = \",soma)"
   ]
  },
  {
   "cell_type": "code",
   "execution_count": 4,
   "id": "ee3124fb",
   "metadata": {},
   "outputs": [
    {
     "name": "stdout",
     "output_type": "stream",
     "text": [
      "Informe suas notas para calcular a média.\n",
      "Nota 1: 10\n",
      "Nota 2: 7\n",
      "Nota 3: 8\n",
      "Nota 4: 8\n",
      "Sua média é  8.25\n"
     ]
    }
   ],
   "source": [
    "#4\n",
    "print(\"Informe suas notas para calcular a média.\")\n",
    "n1 = float(input(\"Nota 1: \"))\n",
    "n2 = float(input(\"Nota 2: \"))\n",
    "n3 = float(input(\"Nota 3: \"))\n",
    "n4 = float(input(\"Nota 4: \"))\n",
    "\n",
    "media = (n1+n2+n3+n4)/4\n",
    "print(\"Sua média é \",media)"
   ]
  },
  {
   "cell_type": "code",
   "execution_count": 5,
   "id": "824660fb",
   "metadata": {},
   "outputs": [
    {
     "name": "stdout",
     "output_type": "stream",
     "text": [
      "Informe um valor em metros e saiba quanto vale em centímetros.\n",
      "Valor em metros: 1.4\n",
      "Valor em centímetros:  140.0\n"
     ]
    }
   ],
   "source": [
    "#5\n",
    "print(\"Informe um valor em metros e saiba quanto vale em centímetros.\")\n",
    "m = float(input(\"Valor em metros: \"))\n",
    "\n",
    "cm = m*100\n",
    "print(\"Valor em centímetros: \",cm)"
   ]
  },
  {
   "cell_type": "code",
   "execution_count": 6,
   "id": "944893cd",
   "metadata": {},
   "outputs": [
    {
     "name": "stdout",
     "output_type": "stream",
     "text": [
      "Descubra sua área.\n",
      "Informe o raio de um círculo: 2\n",
      "Usando π como 3,14. A área é  12.56\n"
     ]
    }
   ],
   "source": [
    "#6\n",
    "print(\"Descubra sua área.\")\n",
    "raio = int(input(\"Informe o raio de um círculo: \"))\n",
    "\n",
    "area = (2*3.14)*raio\n",
    "print(\"Usando π como 3,14.\",\"A área é \",area)"
   ]
  },
  {
   "cell_type": "code",
   "execution_count": 7,
   "id": "7cb171b4",
   "metadata": {},
   "outputs": [
    {
     "name": "stdout",
     "output_type": "stream",
     "text": [
      "Descubra quanto é o dobro de sua área de um quadrado.\n",
      "Informe a aresta do quadrado: 6\n",
      "O obro da área do quadrado é  72\n"
     ]
    }
   ],
   "source": [
    "#7\n",
    "print(\"Descubra quanto é o dobro de sua área de um quadrado.\")\n",
    "aresta = int(input(\"Informe a aresta do quadrado: \"))\n",
    "\n",
    "area2 = 2*(aresta**2)\n",
    "print(\"O obro da área do quadrado é \",area2)"
   ]
  },
  {
   "cell_type": "code",
   "execution_count": 8,
   "id": "9e68dd2b",
   "metadata": {},
   "outputs": [
    {
     "name": "stdout",
     "output_type": "stream",
     "text": [
      "Descobra quanto você ganha por hora.\n",
      "Informe seu salário mensal: 1200\n",
      "Informe quantas horas trabalha por mês: 30\n",
      "Por hora você ganha  40.0\n"
     ]
    }
   ],
   "source": [
    "#8\n",
    "print(\"Descobra quanto você ganha por hora.\")\n",
    "salario = int(input(\"Informe seu salário mensal: \"))\n",
    "horas = int(input(\"Informe quantas horas trabalha por mês: \"))\n",
    "\n",
    "resultado = salario/horas\n",
    "print(\"Por hora você ganha \",resultado)"
   ]
  },
  {
   "cell_type": "code",
   "execution_count": 9,
   "id": "a2e488c8",
   "metadata": {},
   "outputs": [
    {
     "name": "stdout",
     "output_type": "stream",
     "text": [
      "Descobra quanto a temperatura em Fahrenheit vale em Celcius\n",
      "Informe a temperatura em Fahrenheit: 120\n",
      "A temperatura em celcius é 48.888888888888886\n"
     ]
    }
   ],
   "source": [
    "#9\n",
    "print(\"Descobra quanto a temperatura em Fahrenheit vale em Celcius\")\n",
    "fah = int(input(\"Informe a temperatura em Fahrenheit: \"))\n",
    "\n",
    "cel = (fah-32)/1.8\n",
    "print(\"A temperatura em celcius é\",cel)"
   ]
  },
  {
   "cell_type": "code",
   "execution_count": 10,
   "id": "7dccc69b",
   "metadata": {},
   "outputs": [
    {
     "name": "stdout",
     "output_type": "stream",
     "text": [
      "Descobra quanto a temperatura em Celcius vale em Fahrenheit\n",
      "Informe a temperatura em Celcius: 36\n",
      "A temperatura em fahrenheit é 96.8\n"
     ]
    }
   ],
   "source": [
    "#10\n",
    "print(\"Descobra quanto a temperatura em Celcius vale em Fahrenheit\")\n",
    "cel = int(input(\"Informe a temperatura em Celcius: \"))\n",
    "\n",
    "fah = cel*1.8+32\n",
    "print(\"A temperatura em fahrenheit é\",fah)"
   ]
  },
  {
   "cell_type": "code",
   "execution_count": 11,
   "id": "ab81fbb5",
   "metadata": {},
   "outputs": [
    {
     "name": "stdout",
     "output_type": "stream",
     "text": [
      "Informe dois números inteiros e um número real e faça algumas descobertas.\n",
      "Número inteiro: 1\n",
      "Número inteiro: 1\n",
      "Número real: 1.1\n",
      "O produto do dobro do primeiro com metade do segundo é 0.5\n",
      "A soma do triplo do primeiro com o terceiro é 2.1\n",
      "O terceiro elevado ao cubo é 1.3310000000000004\n"
     ]
    }
   ],
   "source": [
    "#11\n",
    "print(\"Informe dois números inteiros e um número real e faça algumas descobertas.\")\n",
    "n1 = int(input(\"Número inteiro: \"))\n",
    "n2 = int(input(\"Número inteiro: \"))\n",
    "n3 = float(input(\"Número real: \"))\n",
    "\n",
    "result1 = (n1**2)*(n2/2)\n",
    "print(\"O produto do dobro do primeiro com metade do segundo é\",result1)\n",
    "\n",
    "result2 = (n1**3)+(n3)\n",
    "print(\"A soma do triplo do primeiro com o terceiro é\",result2)\n",
    "\n",
    "result3 = n3**3\n",
    "print(\"O terceiro elevado ao cubo é\",result3)"
   ]
  },
  {
   "cell_type": "code",
   "execution_count": 12,
   "id": "f9f1bf3d",
   "metadata": {},
   "outputs": [
    {
     "name": "stdout",
     "output_type": "stream",
     "text": [
      "Descobra qual é seu peso ideal.\n",
      "Informe sua altura: 1.68\n",
      "Seu peso ideial é  64.136\n"
     ]
    }
   ],
   "source": [
    "#12\n",
    "print(\"Descobra qual é seu peso ideal.\")\n",
    "altura = float(input(\"Informe sua altura: \"))\n",
    "\n",
    "ideal = (72.7*altura) - 58\n",
    "print(\"Seu peso ideial é \",ideal)"
   ]
  },
  {
   "cell_type": "code",
   "execution_count": 13,
   "id": "7a7e9e5f",
   "metadata": {},
   "outputs": [
    {
     "name": "stdout",
     "output_type": "stream",
     "text": [
      "Descobra qual é seu peso ideal.\n",
      "Informe sua altura: 1.68\n",
      "Informe, usando m ou h, sua sexo biológico: h\n",
      "Seu peso ideial é  64.136\n"
     ]
    }
   ],
   "source": [
    "#13\n",
    "print(\"Descobra qual é seu peso ideal.\")\n",
    "altura = float(input(\"Informe sua altura: \"))\n",
    "sexo = input(\"Informe, usando m ou h, sua sexo biológico: \")\n",
    "if sexo == \"h\":\n",
    "    ideal = (72.7*altura) - 58\n",
    "    print(\"Seu peso ideial é \",ideal)\n",
    "elif sexo == \"m\":\n",
    "    ideal == (62.1*altura) - 44.7\n",
    "    print(\"Seu peso ideial é \",ideal)"
   ]
  },
  {
   "cell_type": "code",
   "execution_count": 14,
   "id": "2fb36bdc",
   "metadata": {},
   "outputs": [
    {
     "name": "stdout",
     "output_type": "stream",
     "text": [
      "Descobra se João levou multa dessa vez. Caso tenha quanto excedeu e quando sera sua multa.\n",
      "Informe quantos quilos João pescou: 5\n",
      "João não levou multa.\n"
     ]
    }
   ],
   "source": [
    "#14\n",
    "print(\"Descobra se João levou multa dessa vez. Caso tenha quanto excedeu e quando sera sua multa.\")\n",
    "pesca = float(input(\"Informe quantos quilos João pescou: \"))\n",
    "\n",
    "if pesca <= 50:\n",
    "    print(\"João não levou multa.\")\n",
    "else:\n",
    "    multa = (pesca-50)*4\n",
    "    print(\"João levou multa. O valor da multa foi \", multa,\" reais.\")"
   ]
  },
  {
   "cell_type": "code",
   "execution_count": 15,
   "id": "4d595ef6",
   "metadata": {},
   "outputs": [
    {
     "name": "stdout",
     "output_type": "stream",
     "text": [
      "Descobra qual seu salário bruto e líquido, assim como, o valor descontado.\n",
      "Informe seu salário por hora: 1200\n",
      "Informe quantas horas trabalha por mês: 30\n",
      "Seu salário bruto é R$ 36000.0\n",
      "O desconto do Imposto de Renda foi R$ 3960.0\n",
      "O desconto do INSS foi R$ 2880.0\n",
      "O desconto do Sindicato foi R$ 1800.0\n",
      "Seu salário líquido é R$ 27360.0\n"
     ]
    }
   ],
   "source": [
    "#15\n",
    "print(\"Descobra qual seu salário bruto e líquido, assim como, o valor descontado.\")\n",
    "salario_horas = float(input(\"Informe seu salário por hora: \"))\n",
    "horas = float(input(\"Informe quantas horas trabalha por mês: \"))\n",
    "\n",
    "salario_bruto = salario_horas*horas\n",
    "print(\"Seu salário bruto é R$\", salario_bruto)\n",
    "ir = salario_bruto*0.11\n",
    "print(\"O desconto do Imposto de Renda foi R$\", ir)\n",
    "inss = salario_bruto*0.08\n",
    "print(\"O desconto do INSS foi R$\", inss)\n",
    "sindicato = salario_bruto*0.05\n",
    "print(\"O desconto do Sindicato foi R$\", sindicato)\n",
    "\n",
    "desconto = ir+inss+sindicato\n",
    "salario_liquido = salario_bruto - desconto\n",
    "print(\"Seu salário líquido é R$\", salario_liquido)"
   ]
  },
  {
   "cell_type": "code",
   "execution_count": 16,
   "id": "18d270fd",
   "metadata": {},
   "outputs": [
    {
     "name": "stdout",
     "output_type": "stream",
     "text": [
      "Descobra quantas latas de tinta precisa e qual o valor final.\n",
      "Informe quantos metros quadrados para pintar: 200\n",
      "Seram necessárias 4 latas de tinta.\n",
      "O valor a pagar sera R$ 320\n"
     ]
    }
   ],
   "source": [
    "#16\n",
    "import math\n",
    "\n",
    "print(\"Descobra quantas latas de tinta precisa e qual o valor final.\")\n",
    "\n",
    "m2 = float(input(\"Informe quantos metros quadrados para pintar: \"))\n",
    "consumo = m2/3\n",
    "\n",
    "latas = math.ceil((consumo)/18)\n",
    "valor = 80*latas\n",
    "\n",
    "print(\"Seram necessárias\",latas,\"latas de tinta.\")\n",
    "print(\"O valor a pagar sera R$\",valor)"
   ]
  },
  {
   "cell_type": "code",
   "execution_count": 17,
   "id": "b3bbc9c5",
   "metadata": {},
   "outputs": [
    {
     "name": "stdout",
     "output_type": "stream",
     "text": [
      "Descobra quantas latas de tinta precisa e qual o valor final.\n",
      "Informe quantos metros quadrados para pintar: 200\n",
      "\n",
      "\n",
      "Opção para desperdiçar o mínimo:\n",
      "Seram necessárias 3 latas de tinta de 18L e 1 galões de tinta 3,6L.\n",
      "O valor a pagar sera R$ 265\n"
     ]
    }
   ],
   "source": [
    "#17 - desperdício mínimo\n",
    "import math\n",
    "\n",
    "print(\"Descobra quantas latas de tinta precisa e qual o valor final.\")\n",
    "m2 = float(input(\"Informe quantos metros quadrados para pintar: \"))\n",
    "consumo = m2/6\n",
    "\n",
    "print(\"\\n\")\n",
    "print(\"Opção para desperdiçar o mínimo:\")\n",
    "if (consumo*1.1)/18 <=0.88:\n",
    "    qt_galao = math.ceil((consumo*1.1)/3.6)\n",
    "    valor3 = qt_galao*25\n",
    "    print(\"Seram necessárias\",qt_galao,\"galões de tinta de 3,6L.\")\n",
    "    print(\"O valor a pagar sera R$\",valor3)\n",
    "elif (consumo*1.1)%18 == 0 or (consumo*1.1)/18 <1:\n",
    "    qt_lata = math.ceil((consumo*1.1)/18)\n",
    "    valor3 = qt_lata*80\n",
    "    print(\"Seram necessárias\",qt_lata,\"latas de tinta de 18L.\")\n",
    "    print(\"O valor a pagar sera R$\",valor3)\n",
    "else:\n",
    "    qt_galao = math.ceil(((consumo*1.1)%18)/3.6)\n",
    "    qt_lata = math.ceil((consumo*1.1)/18)\n",
    "    valor3 = qt_lata*80 + qt_galao*25\n",
    "    print(\"Seram necessárias\",qt_lata,\"latas de tinta de 18L e\",qt_galao,\"galões de tinta 3,6L.\")\n",
    "    print(\"O valor a pagar sera R$\",valor3)"
   ]
  },
  {
   "cell_type": "code",
   "execution_count": 18,
   "id": "f1a11ca1",
   "metadata": {},
   "outputs": [
    {
     "name": "stdout",
     "output_type": "stream",
     "text": [
      "Descobra quantas latas de tinta precisa e qual o valor final.\n",
      "Informe quantos metros quadrados para pintar: 200\n",
      "\n",
      "\n",
      "Opção apenas comprando latas de 18L:\n",
      "Seram necessárias 2 latas de tinta de 18L.\n",
      "O valor a pagar sera R$ 160\n",
      "\n",
      "\n",
      "Opção apenas comprando galões de tinta de 3,6L:\n",
      "Seram necessárias 10 latas de tinta de tinta de 3,6L.\n",
      "O valor a pagar sera R$ 250\n",
      "\n",
      "\n",
      "Opção para desperdiçar o mínimo:\n",
      "Seram necessárias 3 latas de tinta de 18L e 1 galões de tinta 3,6L.\n",
      "O valor a pagar sera R$ 265\n"
     ]
    }
   ],
   "source": [
    "#17 - todas as opções\n",
    "import math\n",
    "\n",
    "print(\"Descobra quantas latas de tinta precisa e qual o valor final.\")\n",
    "m2 = float(input(\"Informe quantos metros quadrados para pintar: \"))\n",
    "consumo = m2/6\n",
    "\n",
    "print(\"\\n\")\n",
    "print(\"Opção apenas comprando latas de 18L:\")\n",
    "lata = math.ceil((consumo)/18)\n",
    "valor1 = 80*lata\n",
    "print(\"Seram necessárias\",lata,\"latas de tinta de 18L.\")\n",
    "print(\"O valor a pagar sera R$\",valor1)\n",
    "\n",
    "print(\"\\n\")\n",
    "print(\"Opção apenas comprando galões de tinta de 3,6L:\")\n",
    "galao = math.ceil((consumo)/3.6)\n",
    "valor2 = 25*galao\n",
    "print(\"Seram necessárias\",galao,\"latas de tinta de tinta de 3,6L.\")\n",
    "print(\"O valor a pagar sera R$\",valor2)\n",
    "\n",
    "print(\"\\n\")\n",
    "print(\"Opção para desperdiçar o mínimo:\")\n",
    "if (consumo*1.1)/18 <=0.88:\n",
    "    qt_galao = math.ceil((consumo*1.1)/3.6)\n",
    "    valor3 = qt_galao*25\n",
    "    print(\"Seram necessárias\",qt_galao,\"galões de tinta de 3,6L.\")\n",
    "    print(\"O valor a pagar sera R$\",valor3)\n",
    "elif (consumo*1.1)%18 == 0 or (consumo*1.1)/18 <1:\n",
    "    qt_lata = math.ceil((consumo*1.1)/18)\n",
    "    valor3 = qt_lata*80\n",
    "    print(\"Seram necessárias\",qt_lata,\"latas de tinta de 18L.\")\n",
    "    print(\"O valor a pagar sera R$\",valor3)\n",
    "else:\n",
    "    qt_galao = math.ceil(((consumo*1.1)%18)/3.6)\n",
    "    qt_lata = math.ceil((consumo*1.1)/18)\n",
    "    valor3 = qt_lata*80 + qt_galao*25\n",
    "    print(\"Seram necessárias\",qt_lata,\"latas de tinta de 18L e\",qt_galao,\"galões de tinta 3,6L.\")\n",
    "    print(\"O valor a pagar sera R$\",valor3)"
   ]
  },
  {
   "cell_type": "code",
   "execution_count": 19,
   "id": "caad2f3c",
   "metadata": {},
   "outputs": [
    {
     "name": "stdout",
     "output_type": "stream",
     "text": [
      "Descobra quanto tempo aproximadamente o dowload ira demorar.\n",
      "Informe o tamanho do arquivo (em MB): 79\n",
      "Informe a velocidade da Internet (em MBps): 20\n",
      "O tempo aproximado do dowloadd é  237.0\n"
     ]
    }
   ],
   "source": [
    "#18\n",
    "print(\"Descobra quanto tempo aproximadamente o dowload ira demorar.\")\n",
    "\n",
    "arquivo = float(input(\"Informe o tamanho do arquivo (em MB): \"))\n",
    "velocidade = float(input(\"Informe a velocidade da Internet (em MBps): \"))\n",
    "\n",
    "print(\"O tempo aproximado do dowloadd é \",(arquivo/velocidade)*60)"
   ]
  }
 ],
 "metadata": {
  "kernelspec": {
   "display_name": "Python 3 (ipykernel)",
   "language": "python",
   "name": "python3"
  },
  "language_info": {
   "codemirror_mode": {
    "name": "ipython",
    "version": 3
   },
   "file_extension": ".py",
   "mimetype": "text/x-python",
   "name": "python",
   "nbconvert_exporter": "python",
   "pygments_lexer": "ipython3",
   "version": "3.9.13"
  }
 },
 "nbformat": 4,
 "nbformat_minor": 5
}
